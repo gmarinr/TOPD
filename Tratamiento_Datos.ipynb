{
 "cells": [
  {
   "cell_type": "code",
   "execution_count": 9,
   "id": "3da85137",
   "metadata": {},
   "outputs": [],
   "source": [
    "#Rutas\n",
    "grd = r'/home/brunoc/Documents/Universidad/2025/Taller de obtención y preparación de datos/Proyecto/Datos/Datos_Recortados_Columnas/grd_2023_saved.parquet'\n",
    "hospital = r'/home/brunoc/Documents/Universidad/2025/Taller de obtención y preparación de datos/Proyecto/Datos/Datos_Recortados_Columnas/hospital.parquet'\n",
    "ir_grd = r'/home/brunoc/Documents/Universidad/2025/Taller de obtención y preparación de datos/Proyecto/Datos/Datos_Recortados_Columnas/ir-grd.parquet'\n",
    "cie = r'/home/brunoc/Documents/Universidad/2025/Taller de obtención y preparación de datos/Proyecto/Datos/Datos_Recortados_Columnas/CIE-10 (2).xlsx'\n"
   ]
  },
  {
   "cell_type": "code",
   "execution_count": 10,
   "id": "c665af99",
   "metadata": {},
   "outputs": [],
   "source": [
    "import pandas as pd\n",
    "import numpy as numpy\n",
    "import sklearn as skl\n",
    "\n"
   ]
  },
  {
   "cell_type": "code",
   "execution_count": 11,
   "id": "76d69789",
   "metadata": {},
   "outputs": [],
   "source": [
    "df_grd = pd.read_parquet(grd)\n",
    "df_hospital = pd.read_parquet(hospital)\n",
    "df_ir_grd = pd.read_parquet(ir_grd)\n",
    "df_cie = pd.read_excel(cie, engine='openpyxl')\n",
    "# hospital, ir_grd no tienen header"
   ]
  },
  {
   "cell_type": "code",
   "execution_count": 12,
   "id": "e43bfa5d",
   "metadata": {},
   "outputs": [
    {
     "data": {
      "text/html": [
       "<div>\n",
       "<style scoped>\n",
       "    .dataframe tbody tr th:only-of-type {\n",
       "        vertical-align: middle;\n",
       "    }\n",
       "\n",
       "    .dataframe tbody tr th {\n",
       "        vertical-align: top;\n",
       "    }\n",
       "\n",
       "    .dataframe thead th {\n",
       "        text-align: right;\n",
       "    }\n",
       "</style>\n",
       "<table border=\"1\" class=\"dataframe\">\n",
       "  <thead>\n",
       "    <tr style=\"text-align: right;\">\n",
       "      <th></th>\n",
       "      <th>COD_HOSPITAL</th>\n",
       "      <th>CIP_ENCRIPTADO</th>\n",
       "      <th>SEXO</th>\n",
       "      <th>FECHA_NACIMIENTO</th>\n",
       "      <th>SERVICIO_SALUD</th>\n",
       "      <th>TIPO_INGRESO</th>\n",
       "      <th>FECHA_INGRESO</th>\n",
       "      <th>FECHAALTA</th>\n",
       "      <th>TIPOALTA</th>\n",
       "      <th>DIAGNOSTICO1</th>\n",
       "      <th>IR_29301_COD_GRD</th>\n",
       "      <th>IR_29301_PESO</th>\n",
       "      <th>IR_29301_SEVERIDAD</th>\n",
       "      <th>IR_29301_MORTALIDAD</th>\n",
       "      <th>EDAD</th>\n",
       "      <th>DIAS_ESTANCIA</th>\n",
       "    </tr>\n",
       "  </thead>\n",
       "  <tbody>\n",
       "    <tr>\n",
       "      <th>0</th>\n",
       "      <td>122100</td>\n",
       "      <td>72196813.0</td>\n",
       "      <td>HOMBRE</td>\n",
       "      <td>1980-04-13</td>\n",
       "      <td>VALDIVIA</td>\n",
       "      <td>URGENCIA</td>\n",
       "      <td>2023-03-12</td>\n",
       "      <td>2023-03-14</td>\n",
       "      <td>DOMICILIO</td>\n",
       "      <td>K35.3</td>\n",
       "      <td>64161.0</td>\n",
       "      <td>0.7094</td>\n",
       "      <td>1.0</td>\n",
       "      <td>1.0</td>\n",
       "      <td>43.0</td>\n",
       "      <td>2</td>\n",
       "    </tr>\n",
       "    <tr>\n",
       "      <th>1</th>\n",
       "      <td>114101</td>\n",
       "      <td>NaN</td>\n",
       "      <td>HOMBRE</td>\n",
       "      <td>2001-11-04</td>\n",
       "      <td>METROPOLITANO SURORIENTE</td>\n",
       "      <td>URGENCIA</td>\n",
       "      <td>2023-11-04</td>\n",
       "      <td>2023-11-10</td>\n",
       "      <td>DOMICILIO</td>\n",
       "      <td>J93.1</td>\n",
       "      <td>41301.0</td>\n",
       "      <td>1.0869</td>\n",
       "      <td>1.0</td>\n",
       "      <td>1.0</td>\n",
       "      <td>22.0</td>\n",
       "      <td>6</td>\n",
       "    </tr>\n",
       "  </tbody>\n",
       "</table>\n",
       "</div>"
      ],
      "text/plain": [
       "   COD_HOSPITAL  CIP_ENCRIPTADO    SEXO FECHA_NACIMIENTO  \\\n",
       "0        122100      72196813.0  HOMBRE       1980-04-13   \n",
       "1        114101             NaN  HOMBRE       2001-11-04   \n",
       "\n",
       "             SERVICIO_SALUD TIPO_INGRESO FECHA_INGRESO   FECHAALTA   TIPOALTA  \\\n",
       "0                  VALDIVIA     URGENCIA    2023-03-12  2023-03-14  DOMICILIO   \n",
       "1  METROPOLITANO SURORIENTE     URGENCIA    2023-11-04  2023-11-10  DOMICILIO   \n",
       "\n",
       "  DIAGNOSTICO1  IR_29301_COD_GRD  IR_29301_PESO  IR_29301_SEVERIDAD  \\\n",
       "0        K35.3           64161.0         0.7094                 1.0   \n",
       "1        J93.1           41301.0         1.0869                 1.0   \n",
       "\n",
       "   IR_29301_MORTALIDAD  EDAD  DIAS_ESTANCIA  \n",
       "0                  1.0  43.0              2  \n",
       "1                  1.0  22.0              6  "
      ]
     },
     "execution_count": 12,
     "metadata": {},
     "output_type": "execute_result"
    }
   ],
   "source": [
    "df_grd.head(2)"
   ]
  },
  {
   "cell_type": "code",
   "execution_count": 13,
   "id": "3ed29c88",
   "metadata": {},
   "outputs": [
    {
     "data": {
      "text/plain": [
       "count    1.039587e+06\n",
       "mean     5.796219e+00\n",
       "std      1.234831e+01\n",
       "min      0.000000e+00\n",
       "25%      1.000000e+00\n",
       "50%      2.000000e+00\n",
       "75%      6.000000e+00\n",
       "max      6.960000e+02\n",
       "Name: DIAS_ESTANCIA, dtype: float64"
      ]
     },
     "execution_count": 13,
     "metadata": {},
     "output_type": "execute_result"
    }
   ],
   "source": [
    "df_grd['DIAS_ESTANCIA'].describe()"
   ]
  },
  {
   "cell_type": "code",
   "execution_count": 14,
   "id": "037fdfea",
   "metadata": {},
   "outputs": [
    {
     "data": {
      "text/html": [
       "<div>\n",
       "<style scoped>\n",
       "    .dataframe tbody tr th:only-of-type {\n",
       "        vertical-align: middle;\n",
       "    }\n",
       "\n",
       "    .dataframe tbody tr th {\n",
       "        vertical-align: top;\n",
       "    }\n",
       "\n",
       "    .dataframe thead th {\n",
       "        text-align: right;\n",
       "    }\n",
       "</style>\n",
       "<table border=\"1\" class=\"dataframe\">\n",
       "  <thead>\n",
       "    <tr style=\"text-align: right;\">\n",
       "      <th></th>\n",
       "      <th>COD_HOSPITAL</th>\n",
       "      <th>CIP_ENCRIPTADO</th>\n",
       "      <th>SEXO</th>\n",
       "      <th>FECHA_NACIMIENTO</th>\n",
       "      <th>SERVICIO_SALUD</th>\n",
       "      <th>TIPO_INGRESO</th>\n",
       "      <th>FECHA_INGRESO</th>\n",
       "      <th>FECHAALTA</th>\n",
       "      <th>TIPOALTA</th>\n",
       "      <th>DIAGNOSTICO1</th>\n",
       "      <th>IR_29301_COD_GRD</th>\n",
       "      <th>IR_29301_PESO</th>\n",
       "      <th>IR_29301_SEVERIDAD</th>\n",
       "      <th>IR_29301_MORTALIDAD</th>\n",
       "      <th>EDAD</th>\n",
       "      <th>DIAS_ESTANCIA</th>\n",
       "    </tr>\n",
       "  </thead>\n",
       "  <tbody>\n",
       "    <tr>\n",
       "      <th>951917</th>\n",
       "      <td>121109</td>\n",
       "      <td>73287823.0</td>\n",
       "      <td>HOMBRE</td>\n",
       "      <td>1989-09-03</td>\n",
       "      <td>ARAUCANÍA SUR</td>\n",
       "      <td>URGENCIA</td>\n",
       "      <td>2022-01-13</td>\n",
       "      <td>2023-12-10</td>\n",
       "      <td>DOMICILIO</td>\n",
       "      <td>F20.9</td>\n",
       "      <td>194101.0</td>\n",
       "      <td>0.6824</td>\n",
       "      <td>1.0</td>\n",
       "      <td>1.0</td>\n",
       "      <td>32.0</td>\n",
       "      <td>696</td>\n",
       "    </tr>\n",
       "  </tbody>\n",
       "</table>\n",
       "</div>"
      ],
      "text/plain": [
       "        COD_HOSPITAL  CIP_ENCRIPTADO    SEXO FECHA_NACIMIENTO SERVICIO_SALUD  \\\n",
       "951917        121109      73287823.0  HOMBRE       1989-09-03  ARAUCANÍA SUR   \n",
       "\n",
       "       TIPO_INGRESO FECHA_INGRESO   FECHAALTA   TIPOALTA DIAGNOSTICO1  \\\n",
       "951917     URGENCIA    2022-01-13  2023-12-10  DOMICILIO        F20.9   \n",
       "\n",
       "        IR_29301_COD_GRD  IR_29301_PESO  IR_29301_SEVERIDAD  \\\n",
       "951917          194101.0         0.6824                 1.0   \n",
       "\n",
       "        IR_29301_MORTALIDAD  EDAD  DIAS_ESTANCIA  \n",
       "951917                  1.0  32.0            696  "
      ]
     },
     "execution_count": 14,
     "metadata": {},
     "output_type": "execute_result"
    }
   ],
   "source": [
    "wn_loco = df_grd[df_grd['DIAS_ESTANCIA'] == 696]\n",
    "wn_loco"
   ]
  },
  {
   "cell_type": "code",
   "execution_count": 15,
   "id": "aaa6b1fd",
   "metadata": {},
   "outputs": [
    {
     "data": {
      "text/plain": [
       "0          A00\n",
       "1        A00.0\n",
       "2        A00.1\n",
       "3        A00.9\n",
       "4          A01\n",
       "         ...  \n",
       "39868    Z99.2\n",
       "39869    Z99.3\n",
       "39870    Z99.4\n",
       "39871    Z99.8\n",
       "39872    Z99.9\n",
       "Name: Código, Length: 39873, dtype: object"
      ]
     },
     "execution_count": 15,
     "metadata": {},
     "output_type": "execute_result"
    }
   ],
   "source": [
    "df_cie['Código']"
   ]
  },
  {
   "cell_type": "code",
   "execution_count": 16,
   "id": "2a694507",
   "metadata": {},
   "outputs": [
    {
     "data": {
      "text/html": [
       "<div>\n",
       "<style scoped>\n",
       "    .dataframe tbody tr th:only-of-type {\n",
       "        vertical-align: middle;\n",
       "    }\n",
       "\n",
       "    .dataframe tbody tr th {\n",
       "        vertical-align: top;\n",
       "    }\n",
       "\n",
       "    .dataframe thead th {\n",
       "        text-align: right;\n",
       "    }\n",
       "</style>\n",
       "<table border=\"1\" class=\"dataframe\">\n",
       "  <thead>\n",
       "    <tr style=\"text-align: right;\">\n",
       "      <th></th>\n",
       "      <th>101100</th>\n",
       "      <th>Hospital Dr. Juan Noé Crevanni (Arica)</th>\n",
       "    </tr>\n",
       "  </thead>\n",
       "  <tbody>\n",
       "    <tr>\n",
       "      <th>0</th>\n",
       "      <td>101203</td>\n",
       "      <td>Clínica Hebe</td>\n",
       "    </tr>\n",
       "    <tr>\n",
       "      <th>1</th>\n",
       "      <td>101212</td>\n",
       "      <td>Clínica San Agustín</td>\n",
       "    </tr>\n",
       "  </tbody>\n",
       "</table>\n",
       "</div>"
      ],
      "text/plain": [
       "   101100 Hospital Dr. Juan Noé Crevanni (Arica)\n",
       "0  101203                           Clínica Hebe\n",
       "1  101212                    Clínica San Agustín"
      ]
     },
     "execution_count": 16,
     "metadata": {},
     "output_type": "execute_result"
    }
   ],
   "source": [
    "df_hospital.head(2)"
   ]
  },
  {
   "cell_type": "code",
   "execution_count": 17,
   "id": "c2c68da3",
   "metadata": {},
   "outputs": [
    {
     "data": {
      "text/html": [
       "<div>\n",
       "<style scoped>\n",
       "    .dataframe tbody tr th:only-of-type {\n",
       "        vertical-align: middle;\n",
       "    }\n",
       "\n",
       "    .dataframe tbody tr th {\n",
       "        vertical-align: top;\n",
       "    }\n",
       "\n",
       "    .dataframe thead th {\n",
       "        text-align: right;\n",
       "    }\n",
       "</style>\n",
       "<table border=\"1\" class=\"dataframe\">\n",
       "  <thead>\n",
       "    <tr style=\"text-align: right;\">\n",
       "      <th></th>\n",
       "      <th>11011</th>\n",
       "      <th>PH PROCEDIMIENTOS VASCULARES INTRACRANEALES</th>\n",
       "    </tr>\n",
       "  </thead>\n",
       "  <tbody>\n",
       "    <tr>\n",
       "      <th>0</th>\n",
       "      <td>11012</td>\n",
       "      <td>PH PROCEDIMIENTOS VASCULARES INTRACRANEALES W/CC</td>\n",
       "    </tr>\n",
       "    <tr>\n",
       "      <th>1</th>\n",
       "      <td>11013</td>\n",
       "      <td>PH PROCEDIMIENTOS VASCULARES INTRACRANEALES W...</td>\n",
       "    </tr>\n",
       "  </tbody>\n",
       "</table>\n",
       "</div>"
      ],
      "text/plain": [
       "   11011        PH PROCEDIMIENTOS VASCULARES INTRACRANEALES\n",
       "0  11012   PH PROCEDIMIENTOS VASCULARES INTRACRANEALES W/CC\n",
       "1  11013   PH PROCEDIMIENTOS VASCULARES INTRACRANEALES W..."
      ]
     },
     "execution_count": 17,
     "metadata": {},
     "output_type": "execute_result"
    }
   ],
   "source": [
    "df_ir_grd.head(2)"
   ]
  },
  {
   "cell_type": "code",
   "execution_count": 18,
   "id": "ec8fac58",
   "metadata": {},
   "outputs": [],
   "source": [
    "df_ir_grd.columns = ['IR_29301_COD_GRD', 'DESCCRIPCION_GRD']\n",
    "df_hospital.columns = ['COD_HOSPITAL', 'HOSPITAL']"
   ]
  },
  {
   "cell_type": "code",
   "execution_count": 19,
   "id": "3fc030e1",
   "metadata": {},
   "outputs": [
    {
     "data": {
      "text/html": [
       "<div>\n",
       "<style scoped>\n",
       "    .dataframe tbody tr th:only-of-type {\n",
       "        vertical-align: middle;\n",
       "    }\n",
       "\n",
       "    .dataframe tbody tr th {\n",
       "        vertical-align: top;\n",
       "    }\n",
       "\n",
       "    .dataframe thead th {\n",
       "        text-align: right;\n",
       "    }\n",
       "</style>\n",
       "<table border=\"1\" class=\"dataframe\">\n",
       "  <thead>\n",
       "    <tr style=\"text-align: right;\">\n",
       "      <th></th>\n",
       "      <th>IR_29301_COD_GRD</th>\n",
       "      <th>DESCCRIPCION_GRD</th>\n",
       "    </tr>\n",
       "  </thead>\n",
       "  <tbody>\n",
       "    <tr>\n",
       "      <th>0</th>\n",
       "      <td>11012</td>\n",
       "      <td>PH PROCEDIMIENTOS VASCULARES INTRACRANEALES W/CC</td>\n",
       "    </tr>\n",
       "    <tr>\n",
       "      <th>1</th>\n",
       "      <td>11013</td>\n",
       "      <td>PH PROCEDIMIENTOS VASCULARES INTRACRANEALES W...</td>\n",
       "    </tr>\n",
       "    <tr>\n",
       "      <th>2</th>\n",
       "      <td>11101</td>\n",
       "      <td>PH CRANEOTOMÍA</td>\n",
       "    </tr>\n",
       "    <tr>\n",
       "      <th>3</th>\n",
       "      <td>11102</td>\n",
       "      <td>PH CRANEOTOMÍA W/CC</td>\n",
       "    </tr>\n",
       "    <tr>\n",
       "      <th>4</th>\n",
       "      <td>11103</td>\n",
       "      <td>PH CRANEOTOMÍA W/MCC</td>\n",
       "    </tr>\n",
       "  </tbody>\n",
       "</table>\n",
       "</div>"
      ],
      "text/plain": [
       "   IR_29301_COD_GRD                                   DESCCRIPCION_GRD\n",
       "0             11012   PH PROCEDIMIENTOS VASCULARES INTRACRANEALES W/CC\n",
       "1             11013   PH PROCEDIMIENTOS VASCULARES INTRACRANEALES W...\n",
       "2             11101                                     PH CRANEOTOMÍA\n",
       "3             11102                                PH CRANEOTOMÍA W/CC\n",
       "4             11103                               PH CRANEOTOMÍA W/MCC"
      ]
     },
     "execution_count": 19,
     "metadata": {},
     "output_type": "execute_result"
    }
   ],
   "source": [
    "df_ir_grd.head()"
   ]
  },
  {
   "cell_type": "code",
   "execution_count": 20,
   "id": "a104b1fe",
   "metadata": {},
   "outputs": [
    {
     "data": {
      "text/html": [
       "<div>\n",
       "<style scoped>\n",
       "    .dataframe tbody tr th:only-of-type {\n",
       "        vertical-align: middle;\n",
       "    }\n",
       "\n",
       "    .dataframe tbody tr th {\n",
       "        vertical-align: top;\n",
       "    }\n",
       "\n",
       "    .dataframe thead th {\n",
       "        text-align: right;\n",
       "    }\n",
       "</style>\n",
       "<table border=\"1\" class=\"dataframe\">\n",
       "  <thead>\n",
       "    <tr style=\"text-align: right;\">\n",
       "      <th></th>\n",
       "      <th>COD_HOSPITAL</th>\n",
       "      <th>HOSPITAL</th>\n",
       "    </tr>\n",
       "  </thead>\n",
       "  <tbody>\n",
       "    <tr>\n",
       "      <th>0</th>\n",
       "      <td>101203</td>\n",
       "      <td>Clínica Hebe</td>\n",
       "    </tr>\n",
       "    <tr>\n",
       "      <th>1</th>\n",
       "      <td>101212</td>\n",
       "      <td>Clínica San Agustín</td>\n",
       "    </tr>\n",
       "    <tr>\n",
       "      <th>2</th>\n",
       "      <td>101213</td>\n",
       "      <td>Clínica San José</td>\n",
       "    </tr>\n",
       "    <tr>\n",
       "      <th>3</th>\n",
       "      <td>101215</td>\n",
       "      <td>Complejo Penitenciario</td>\n",
       "    </tr>\n",
       "    <tr>\n",
       "      <th>4</th>\n",
       "      <td>101237</td>\n",
       "      <td>Clínica Dr. Héctor Sánchez</td>\n",
       "    </tr>\n",
       "  </tbody>\n",
       "</table>\n",
       "</div>"
      ],
      "text/plain": [
       "   COD_HOSPITAL                     HOSPITAL\n",
       "0        101203                 Clínica Hebe\n",
       "1        101212          Clínica San Agustín\n",
       "2        101213             Clínica San José\n",
       "3        101215       Complejo Penitenciario\n",
       "4        101237   Clínica Dr. Héctor Sánchez"
      ]
     },
     "execution_count": 20,
     "metadata": {},
     "output_type": "execute_result"
    }
   ],
   "source": [
    "df_hospital.head()"
   ]
  },
  {
   "cell_type": "markdown",
   "id": "85120558",
   "metadata": {},
   "source": [
    "Hace el super coso  \n",
    "análisis de componentes  \n",
    "ver que onda  \n"
   ]
  },
  {
   "cell_type": "markdown",
   "id": "644fcf74",
   "metadata": {},
   "source": [
    "Realizamos el merge para obtener la información completa"
   ]
  },
  {
   "cell_type": "code",
   "execution_count": 21,
   "id": "a05ba8fa",
   "metadata": {},
   "outputs": [
    {
     "name": "stdout",
     "output_type": "stream",
     "text": [
      "\n",
      "grd = Index(['COD_HOSPITAL', 'CIP_ENCRIPTADO', 'SEXO', 'FECHA_NACIMIENTO',\n",
      "       'SERVICIO_SALUD', 'TIPO_INGRESO', 'FECHA_INGRESO', 'FECHAALTA',\n",
      "       'TIPOALTA', 'DIAGNOSTICO1', 'IR_29301_COD_GRD', 'IR_29301_PESO',\n",
      "       'IR_29301_SEVERIDAD', 'IR_29301_MORTALIDAD', 'EDAD', 'DIAS_ESTANCIA'],\n",
      "      dtype='object')\n",
      "cie = Index(['Versión', 'Código', 'Descripción', 'Categoría', 'Sección', 'Capítulo'], dtype='object')\n",
      "hotpitales = Index(['COD_HOSPITAL', 'HOSPITAL'], dtype='object')\n",
      "ir_grd = Index(['IR_29301_COD_GRD', 'DESCCRIPCION_GRD'], dtype='object')\n",
      "\n"
     ]
    }
   ],
   "source": [
    "print( f'''\n",
    "grd = {df_grd.columns}\n",
    "cie = {df_cie.columns}\n",
    "hotpitales = {df_hospital.columns}\n",
    "ir_grd = {df_ir_grd.columns}\n",
    "''')"
   ]
  },
  {
   "cell_type": "markdown",
   "id": "9cdba212",
   "metadata": {},
   "source": [
    "Hay que hacer el merge entre grd (grd['IR_29301_COD_GRD']) y ir_grd (ir_grd['IR_29301_COD_GRD']) y entre grd con hospitales entre ['COD_HOSPITAL'] DIAGNOSTICO1 del CIE es el código"
   ]
  },
  {
   "cell_type": "code",
   "execution_count": 22,
   "id": "6bfa1743",
   "metadata": {},
   "outputs": [
    {
     "data": {
      "text/html": [
       "<div>\n",
       "<style scoped>\n",
       "    .dataframe tbody tr th:only-of-type {\n",
       "        vertical-align: middle;\n",
       "    }\n",
       "\n",
       "    .dataframe tbody tr th {\n",
       "        vertical-align: top;\n",
       "    }\n",
       "\n",
       "    .dataframe thead th {\n",
       "        text-align: right;\n",
       "    }\n",
       "</style>\n",
       "<table border=\"1\" class=\"dataframe\">\n",
       "  <thead>\n",
       "    <tr style=\"text-align: right;\">\n",
       "      <th></th>\n",
       "      <th>CIP_ENCRIPTADO</th>\n",
       "      <th>SEXO</th>\n",
       "      <th>FECHA_NACIMIENTO</th>\n",
       "      <th>SERVICIO_SALUD</th>\n",
       "      <th>TIPO_INGRESO</th>\n",
       "      <th>FECHA_INGRESO</th>\n",
       "      <th>FECHAALTA</th>\n",
       "      <th>TIPOALTA</th>\n",
       "      <th>IR_29301_PESO</th>\n",
       "      <th>IR_29301_SEVERIDAD</th>\n",
       "      <th>IR_29301_MORTALIDAD</th>\n",
       "      <th>EDAD</th>\n",
       "      <th>DIAS_ESTANCIA</th>\n",
       "      <th>HOSPITAL</th>\n",
       "      <th>DESCCRIPCION_GRD</th>\n",
       "      <th>Versión</th>\n",
       "      <th>Descripción</th>\n",
       "      <th>Categoría</th>\n",
       "      <th>Sección</th>\n",
       "      <th>Capítulo</th>\n",
       "    </tr>\n",
       "  </thead>\n",
       "  <tbody>\n",
       "    <tr>\n",
       "      <th>0</th>\n",
       "      <td>72196813.0</td>\n",
       "      <td>HOMBRE</td>\n",
       "      <td>1980-04-13</td>\n",
       "      <td>VALDIVIA</td>\n",
       "      <td>URGENCIA</td>\n",
       "      <td>2023-03-12</td>\n",
       "      <td>2023-03-14</td>\n",
       "      <td>DOMICILIO</td>\n",
       "      <td>0.7094</td>\n",
       "      <td>1.0</td>\n",
       "      <td>1.0</td>\n",
       "      <td>43.0</td>\n",
       "      <td>2</td>\n",
       "      <td>Hospital Clínico Regional (Valdivia)</td>\n",
       "      <td>MH INFECCIONES GASTROINTESTINALES MAYORES</td>\n",
       "      <td>CIE-v2013</td>\n",
       "      <td>Apendicitis aguda con peritonitis localizada</td>\n",
       "      <td>K35 APENDICITIS AGUDA</td>\n",
       "      <td>K35-K38  ENFERMEDADES DEL APÉNDICE</td>\n",
       "      <td>Cap.11  ENFERMEDADES DEL APARATO DIGESTIVO (K0...</td>\n",
       "    </tr>\n",
       "    <tr>\n",
       "      <th>1</th>\n",
       "      <td>NaN</td>\n",
       "      <td>HOMBRE</td>\n",
       "      <td>2001-11-04</td>\n",
       "      <td>METROPOLITANO SURORIENTE</td>\n",
       "      <td>URGENCIA</td>\n",
       "      <td>2023-11-04</td>\n",
       "      <td>2023-11-10</td>\n",
       "      <td>DOMICILIO</td>\n",
       "      <td>1.0869</td>\n",
       "      <td>1.0</td>\n",
       "      <td>1.0</td>\n",
       "      <td>22.0</td>\n",
       "      <td>6</td>\n",
       "      <td>Complejo Hospitalario Dr. Sótero del Río (San...</td>\n",
       "      <td>PH PROCEDIMIENTOS MODERADAMENTE COMPLEJOS SOB...</td>\n",
       "      <td>CIE-v2013</td>\n",
       "      <td>Otros tipos de neumotórax espontáneo</td>\n",
       "      <td>J93 NEUMOTÓRAX</td>\n",
       "      <td>J90-J94  OTRAS ENFERMEDADES DE LA PLEURA</td>\n",
       "      <td>Cap.10  ENFERMEDADES DEL APARATO RESPIRATORIO ...</td>\n",
       "    </tr>\n",
       "  </tbody>\n",
       "</table>\n",
       "</div>"
      ],
      "text/plain": [
       "   CIP_ENCRIPTADO    SEXO FECHA_NACIMIENTO            SERVICIO_SALUD  \\\n",
       "0      72196813.0  HOMBRE       1980-04-13                  VALDIVIA   \n",
       "1             NaN  HOMBRE       2001-11-04  METROPOLITANO SURORIENTE   \n",
       "\n",
       "  TIPO_INGRESO FECHA_INGRESO   FECHAALTA   TIPOALTA  IR_29301_PESO  \\\n",
       "0     URGENCIA    2023-03-12  2023-03-14  DOMICILIO         0.7094   \n",
       "1     URGENCIA    2023-11-04  2023-11-10  DOMICILIO         1.0869   \n",
       "\n",
       "   IR_29301_SEVERIDAD  IR_29301_MORTALIDAD  EDAD  DIAS_ESTANCIA  \\\n",
       "0                 1.0                  1.0  43.0              2   \n",
       "1                 1.0                  1.0  22.0              6   \n",
       "\n",
       "                                            HOSPITAL  \\\n",
       "0               Hospital Clínico Regional (Valdivia)   \n",
       "1   Complejo Hospitalario Dr. Sótero del Río (San...   \n",
       "\n",
       "                                    DESCCRIPCION_GRD    Versión  \\\n",
       "0          MH INFECCIONES GASTROINTESTINALES MAYORES  CIE-v2013   \n",
       "1   PH PROCEDIMIENTOS MODERADAMENTE COMPLEJOS SOB...  CIE-v2013   \n",
       "\n",
       "                                    Descripción              Categoría  \\\n",
       "0  Apendicitis aguda con peritonitis localizada  K35 APENDICITIS AGUDA   \n",
       "1          Otros tipos de neumotórax espontáneo         J93 NEUMOTÓRAX   \n",
       "\n",
       "                                    Sección  \\\n",
       "0        K35-K38  ENFERMEDADES DEL APÉNDICE   \n",
       "1  J90-J94  OTRAS ENFERMEDADES DE LA PLEURA   \n",
       "\n",
       "                                            Capítulo  \n",
       "0  Cap.11  ENFERMEDADES DEL APARATO DIGESTIVO (K0...  \n",
       "1  Cap.10  ENFERMEDADES DEL APARATO RESPIRATORIO ...  "
      ]
     },
     "execution_count": 22,
     "metadata": {},
     "output_type": "execute_result"
    }
   ],
   "source": [
    "# Limpiar nombres de columnas antes\n",
    "for df in [df_grd, df_hospital, df_ir_grd, df_cie]:\n",
    "    df.columns = df.columns.str.strip()\n",
    "\n",
    "# Hacer los merges\n",
    "df_grd = df_grd.merge(df_hospital, on='COD_HOSPITAL', how='left')\n",
    "df_grd = df_grd.merge(df_ir_grd, on='IR_29301_COD_GRD', how='left')\n",
    "df_grd = df_grd.merge(df_cie, left_on='DIAGNOSTICO1', right_on='Código', how='left')\n",
    "\n",
    "# Luego eliminas columnas de unión\n",
    "df_grd = df_grd.drop(columns=['COD_HOSPITAL', 'IR_29301_COD_GRD', 'DIAGNOSTICO1', 'Código'])\n",
    "df_grd.head(2)"
   ]
  },
  {
   "cell_type": "code",
   "execution_count": 23,
   "id": "09170b78",
   "metadata": {},
   "outputs": [
    {
     "data": {
      "text/plain": [
       "Index(['CIP_ENCRIPTADO', 'SEXO', 'FECHA_NACIMIENTO', 'SERVICIO_SALUD',\n",
       "       'TIPO_INGRESO', 'FECHA_INGRESO', 'FECHAALTA', 'TIPOALTA',\n",
       "       'IR_29301_PESO', 'IR_29301_SEVERIDAD', 'IR_29301_MORTALIDAD', 'EDAD',\n",
       "       'DIAS_ESTANCIA', 'HOSPITAL', 'DESCCRIPCION_GRD', 'Versión',\n",
       "       'Descripción', 'Categoría', 'Sección', 'Capítulo'],\n",
       "      dtype='object')"
      ]
     },
     "execution_count": 23,
     "metadata": {},
     "output_type": "execute_result"
    }
   ],
   "source": [
    "df_grd.columns"
   ]
  },
  {
   "cell_type": "code",
   "execution_count": 24,
   "id": "474019db",
   "metadata": {},
   "outputs": [],
   "source": [
    "df_grd.dropna(inplace=True);"
   ]
  },
  {
   "cell_type": "code",
   "execution_count": 25,
   "id": "3f588819",
   "metadata": {},
   "outputs": [
    {
     "data": {
      "text/plain": [
       "np.float64(20.990690045237752)"
      ]
     },
     "execution_count": 25,
     "metadata": {},
     "output_type": "execute_result"
    }
   ],
   "source": [
    "df_grd['CIP_ENCRIPTADO'].duplicated().mean()*100"
   ]
  },
  {
   "cell_type": "markdown",
   "id": "95bdc62c",
   "metadata": {},
   "source": [
    "## Gepetiao"
   ]
  },
  {
   "cell_type": "code",
   "execution_count": 26,
   "id": "46d89d41",
   "metadata": {},
   "outputs": [],
   "source": [
    "# Asegura el tipo datetime\n",
    "df_grd['FECHA_INGRESO'] = pd.to_datetime(df_grd['FECHA_INGRESO'])\n",
    "df_grd['FECHAALTA']     = pd.to_datetime(df_grd['FECHAALTA'])\n",
    "\n",
    "# Ordena episodios dentro de cada paciente\n",
    "df_sorted = (\n",
    "    df_grd\n",
    "      .sort_values(['CIP_ENCRIPTADO', 'FECHA_INGRESO'])\n",
    "      .reset_index(drop=True)\n",
    ")\n"
   ]
  },
  {
   "cell_type": "code",
   "execution_count": 27,
   "id": "8bdae732",
   "metadata": {},
   "outputs": [],
   "source": [
    "# Fecha del próximo ingreso\n",
    "df_sorted['NEXT_FECHA_INGRESO'] = (\n",
    "    df_sorted\n",
    "      .groupby('CIP_ENCRIPTADO')['FECHA_INGRESO']\n",
    "      .shift(-1)                       # episodio siguiente\n",
    ")\n",
    "\n",
    "# Diferencia en días (sólo si hay próximo episodio)\n",
    "df_sorted['DIAS_REINGRESO'] = (\n",
    "    (df_sorted['NEXT_FECHA_INGRESO'] - df_sorted['FECHAALTA'])\n",
    "      .dt.days\n",
    ")\n"
   ]
  },
  {
   "cell_type": "code",
   "execution_count": 28,
   "id": "4df18a0e",
   "metadata": {},
   "outputs": [],
   "source": [
    "mask_gap_ok = df_sorted['DIAS_REINGRESO'] >= 0\n",
    "df_gaps     = df_sorted[mask_gap_ok].copy()\n"
   ]
  },
  {
   "cell_type": "code",
   "execution_count": 29,
   "id": "ef92935d",
   "metadata": {},
   "outputs": [],
   "source": [
    "n_total_ep      = len(df_sorted)                    # todos los episodios\n",
    "n_con_gap       = len(df_gaps)                      # episodios con reingreso calculable\n",
    "pct_ep_con_gap  = n_con_gap / n_total_ep * 100\n",
    "\n",
    "n_pac_total     = df_sorted['CIP_ENCRIPTADO'].nunique()\n",
    "n_pac_multiep   = df_sorted.loc[mask_gap_ok, 'CIP_ENCRIPTADO'].nunique()\n",
    "pct_pac_multiep = n_pac_multiep / n_pac_total * 100\n"
   ]
  },
  {
   "cell_type": "code",
   "execution_count": 30,
   "id": "7e84eae8",
   "metadata": {},
   "outputs": [
    {
     "data": {
      "text/plain": [
       "(1017513, 210264, 20.664502566551977, 803930, 146848, 18.266266963541604)"
      ]
     },
     "execution_count": 30,
     "metadata": {},
     "output_type": "execute_result"
    }
   ],
   "source": [
    "n_total_ep, n_con_gap, pct_ep_con_gap, n_pac_total, n_pac_multiep, pct_pac_multiep"
   ]
  },
  {
   "cell_type": "code",
   "execution_count": 31,
   "id": "259b0041",
   "metadata": {},
   "outputs": [],
   "source": [
    "# --- parámetros ---\n",
    "WINDOWS = [7, 30, 60, 90]          # puedes añadir 14, 180, etc.\n",
    "\n",
    "# --- función auxiliar: True si reingresa en ≤ w días ---\n",
    "def etiqueta_reingreso_episodio(df, w):\n",
    "    # 1) Si DIAS_REINGRESO es NaN  -> no se observó reingreso (False)\n",
    "    # 2) Si gap >= 0 y <= w        -> True\n",
    "    return (df['DIAS_REINGRESO'] <= w).fillna(False)\n",
    "\n",
    "# --- crear etiquetas ---\n",
    "for w in WINDOWS:\n",
    "    df_sorted[f'READM_{w}D'] = etiqueta_reingreso_episodio(df_sorted, w).astype(int)\n"
   ]
  },
  {
   "cell_type": "code",
   "execution_count": 32,
   "id": "61e91635",
   "metadata": {},
   "outputs": [
    {
     "data": {
      "text/html": [
       "<div>\n",
       "<style scoped>\n",
       "    .dataframe tbody tr th:only-of-type {\n",
       "        vertical-align: middle;\n",
       "    }\n",
       "\n",
       "    .dataframe tbody tr th {\n",
       "        vertical-align: top;\n",
       "    }\n",
       "\n",
       "    .dataframe thead th {\n",
       "        text-align: right;\n",
       "    }\n",
       "</style>\n",
       "<table border=\"1\" class=\"dataframe\">\n",
       "  <thead>\n",
       "    <tr style=\"text-align: right;\">\n",
       "      <th></th>\n",
       "      <th>CIP_ENCRIPTADO</th>\n",
       "      <th>SEXO</th>\n",
       "      <th>FECHA_NACIMIENTO</th>\n",
       "      <th>SERVICIO_SALUD</th>\n",
       "      <th>TIPO_INGRESO</th>\n",
       "      <th>FECHA_INGRESO</th>\n",
       "      <th>FECHAALTA</th>\n",
       "      <th>TIPOALTA</th>\n",
       "      <th>IR_29301_PESO</th>\n",
       "      <th>IR_29301_SEVERIDAD</th>\n",
       "      <th>...</th>\n",
       "      <th>Descripción</th>\n",
       "      <th>Categoría</th>\n",
       "      <th>Sección</th>\n",
       "      <th>Capítulo</th>\n",
       "      <th>NEXT_FECHA_INGRESO</th>\n",
       "      <th>DIAS_REINGRESO</th>\n",
       "      <th>READM_7D</th>\n",
       "      <th>READM_30D</th>\n",
       "      <th>READM_60D</th>\n",
       "      <th>READM_90D</th>\n",
       "    </tr>\n",
       "  </thead>\n",
       "  <tbody>\n",
       "    <tr>\n",
       "      <th>0</th>\n",
       "      <td>66988016.0</td>\n",
       "      <td>MUJER</td>\n",
       "      <td>1957-05-01</td>\n",
       "      <td>COQUIMBO</td>\n",
       "      <td>URGENCIA</td>\n",
       "      <td>2023-12-25</td>\n",
       "      <td>2023-12-28</td>\n",
       "      <td>HOSPITALIZACIÓN DOMICILIARIA</td>\n",
       "      <td>0.5799</td>\n",
       "      <td>1.0</td>\n",
       "      <td>...</td>\n",
       "      <td>Cálculo de conducto biliar sin colangitis ni c...</td>\n",
       "      <td>K80 COLELITIASIS</td>\n",
       "      <td>K80-K87  TRASTORNOS DE LA VESÍCULA BILIAR, VÍA...</td>\n",
       "      <td>Cap.11  ENFERMEDADES DEL APARATO DIGESTIVO (K0...</td>\n",
       "      <td>NaT</td>\n",
       "      <td>NaN</td>\n",
       "      <td>0</td>\n",
       "      <td>0</td>\n",
       "      <td>0</td>\n",
       "      <td>0</td>\n",
       "    </tr>\n",
       "    <tr>\n",
       "      <th>1</th>\n",
       "      <td>66988070.0</td>\n",
       "      <td>HOMBRE</td>\n",
       "      <td>1977-07-12</td>\n",
       "      <td>METROPOLITANO SURORIENTE</td>\n",
       "      <td>URGENCIA</td>\n",
       "      <td>2023-03-29</td>\n",
       "      <td>2023-04-13</td>\n",
       "      <td>DOMICILIO</td>\n",
       "      <td>1.1263</td>\n",
       "      <td>3.0</td>\n",
       "      <td>...</td>\n",
       "      <td>Falla y rechazo de trasplante de riñón</td>\n",
       "      <td>T86 FALLA Y RECHAZO DEL TRASPLANTE DE ÓRGANOS ...</td>\n",
       "      <td>T80-T88  COMPLICACIONES DE LA ATENCIÓN QUIRÚRG...</td>\n",
       "      <td>Cap.19  LESIONES TRAUMÁTICAS, ENVENENAMIENTOS ...</td>\n",
       "      <td>2023-06-22</td>\n",
       "      <td>70.0</td>\n",
       "      <td>0</td>\n",
       "      <td>0</td>\n",
       "      <td>0</td>\n",
       "      <td>1</td>\n",
       "    </tr>\n",
       "  </tbody>\n",
       "</table>\n",
       "<p>2 rows × 26 columns</p>\n",
       "</div>"
      ],
      "text/plain": [
       "   CIP_ENCRIPTADO    SEXO FECHA_NACIMIENTO            SERVICIO_SALUD  \\\n",
       "0      66988016.0   MUJER       1957-05-01                  COQUIMBO   \n",
       "1      66988070.0  HOMBRE       1977-07-12  METROPOLITANO SURORIENTE   \n",
       "\n",
       "  TIPO_INGRESO FECHA_INGRESO  FECHAALTA                      TIPOALTA  \\\n",
       "0     URGENCIA    2023-12-25 2023-12-28  HOSPITALIZACIÓN DOMICILIARIA   \n",
       "1     URGENCIA    2023-03-29 2023-04-13                     DOMICILIO   \n",
       "\n",
       "   IR_29301_PESO  IR_29301_SEVERIDAD  ...  \\\n",
       "0         0.5799                 1.0  ...   \n",
       "1         1.1263                 3.0  ...   \n",
       "\n",
       "                                         Descripción  \\\n",
       "0  Cálculo de conducto biliar sin colangitis ni c...   \n",
       "1             Falla y rechazo de trasplante de riñón   \n",
       "\n",
       "                                           Categoría  \\\n",
       "0                                   K80 COLELITIASIS   \n",
       "1  T86 FALLA Y RECHAZO DEL TRASPLANTE DE ÓRGANOS ...   \n",
       "\n",
       "                                             Sección  \\\n",
       "0  K80-K87  TRASTORNOS DE LA VESÍCULA BILIAR, VÍA...   \n",
       "1  T80-T88  COMPLICACIONES DE LA ATENCIÓN QUIRÚRG...   \n",
       "\n",
       "                                            Capítulo NEXT_FECHA_INGRESO  \\\n",
       "0  Cap.11  ENFERMEDADES DEL APARATO DIGESTIVO (K0...                NaT   \n",
       "1  Cap.19  LESIONES TRAUMÁTICAS, ENVENENAMIENTOS ...         2023-06-22   \n",
       "\n",
       "  DIAS_REINGRESO READM_7D READM_30D READM_60D READM_90D  \n",
       "0            NaN        0         0         0         0  \n",
       "1           70.0        0         0         0         1  \n",
       "\n",
       "[2 rows x 26 columns]"
      ]
     },
     "execution_count": 32,
     "metadata": {},
     "output_type": "execute_result"
    }
   ],
   "source": [
    "df_sorted.head(2)"
   ]
  },
  {
   "cell_type": "code",
   "execution_count": 33,
   "id": "b3b0ecdd",
   "metadata": {},
   "outputs": [],
   "source": [
    "# Solo con reingresos #\n",
    "df_util = df_sorted[df_sorted['DIAS_REINGRESO'] > 0].copy()\n"
   ]
  },
  {
   "cell_type": "code",
   "execution_count": 37,
   "id": "73dc6759",
   "metadata": {},
   "outputs": [
    {
     "data": {
      "text/html": [
       "<div>\n",
       "<style scoped>\n",
       "    .dataframe tbody tr th:only-of-type {\n",
       "        vertical-align: middle;\n",
       "    }\n",
       "\n",
       "    .dataframe tbody tr th {\n",
       "        vertical-align: top;\n",
       "    }\n",
       "\n",
       "    .dataframe thead th {\n",
       "        text-align: right;\n",
       "    }\n",
       "</style>\n",
       "<table border=\"1\" class=\"dataframe\">\n",
       "  <thead>\n",
       "    <tr style=\"text-align: right;\">\n",
       "      <th></th>\n",
       "      <th>CIP_ENCRIPTADO</th>\n",
       "      <th>SEXO</th>\n",
       "      <th>FECHA_NACIMIENTO</th>\n",
       "      <th>SERVICIO_SALUD</th>\n",
       "      <th>TIPO_INGRESO</th>\n",
       "      <th>FECHA_INGRESO</th>\n",
       "      <th>FECHAALTA</th>\n",
       "      <th>TIPOALTA</th>\n",
       "      <th>IR_29301_PESO</th>\n",
       "      <th>IR_29301_SEVERIDAD</th>\n",
       "      <th>...</th>\n",
       "      <th>Descripción</th>\n",
       "      <th>Categoría</th>\n",
       "      <th>Sección</th>\n",
       "      <th>Capítulo</th>\n",
       "      <th>NEXT_FECHA_INGRESO</th>\n",
       "      <th>DIAS_REINGRESO</th>\n",
       "      <th>READM_7D</th>\n",
       "      <th>READM_30D</th>\n",
       "      <th>READM_60D</th>\n",
       "      <th>READM_90D</th>\n",
       "    </tr>\n",
       "  </thead>\n",
       "  <tbody>\n",
       "    <tr>\n",
       "      <th>1</th>\n",
       "      <td>66988070.0</td>\n",
       "      <td>HOMBRE</td>\n",
       "      <td>1977-07-12</td>\n",
       "      <td>METROPOLITANO SURORIENTE</td>\n",
       "      <td>URGENCIA</td>\n",
       "      <td>2023-03-29</td>\n",
       "      <td>2023-04-13</td>\n",
       "      <td>DOMICILIO</td>\n",
       "      <td>1.1263</td>\n",
       "      <td>3.0</td>\n",
       "      <td>...</td>\n",
       "      <td>Falla y rechazo de trasplante de riñón</td>\n",
       "      <td>T86 FALLA Y RECHAZO DEL TRASPLANTE DE ÓRGANOS ...</td>\n",
       "      <td>T80-T88  COMPLICACIONES DE LA ATENCIÓN QUIRÚRG...</td>\n",
       "      <td>Cap.19  LESIONES TRAUMÁTICAS, ENVENENAMIENTOS ...</td>\n",
       "      <td>2023-06-22</td>\n",
       "      <td>70.0</td>\n",
       "      <td>0</td>\n",
       "      <td>0</td>\n",
       "      <td>0</td>\n",
       "      <td>1</td>\n",
       "    </tr>\n",
       "    <tr>\n",
       "      <th>3</th>\n",
       "      <td>66988091.0</td>\n",
       "      <td>MUJER</td>\n",
       "      <td>1957-11-01</td>\n",
       "      <td>LIBERTADOR B. O HIGGINS</td>\n",
       "      <td>PROGRAMADA</td>\n",
       "      <td>2023-07-17</td>\n",
       "      <td>2023-07-17</td>\n",
       "      <td>DOMICILIO</td>\n",
       "      <td>0.8479</td>\n",
       "      <td>0.0</td>\n",
       "      <td>...</td>\n",
       "      <td>Diabetes mellitus, no especificada, con compli...</td>\n",
       "      <td>E14 DIABETES MELLITUS, NO ESPECIFICADA</td>\n",
       "      <td>E08-E14  DIABETES MELLITUS</td>\n",
       "      <td>Cap.04  ENFERMEDADES ENDOCRINAS, NUTRICIONALES...</td>\n",
       "      <td>2023-08-19</td>\n",
       "      <td>33.0</td>\n",
       "      <td>0</td>\n",
       "      <td>0</td>\n",
       "      <td>1</td>\n",
       "      <td>1</td>\n",
       "    </tr>\n",
       "  </tbody>\n",
       "</table>\n",
       "<p>2 rows × 26 columns</p>\n",
       "</div>"
      ],
      "text/plain": [
       "   CIP_ENCRIPTADO    SEXO FECHA_NACIMIENTO            SERVICIO_SALUD  \\\n",
       "1      66988070.0  HOMBRE       1977-07-12  METROPOLITANO SURORIENTE   \n",
       "3      66988091.0   MUJER       1957-11-01   LIBERTADOR B. O HIGGINS   \n",
       "\n",
       "  TIPO_INGRESO FECHA_INGRESO  FECHAALTA   TIPOALTA  IR_29301_PESO  \\\n",
       "1     URGENCIA    2023-03-29 2023-04-13  DOMICILIO         1.1263   \n",
       "3   PROGRAMADA    2023-07-17 2023-07-17  DOMICILIO         0.8479   \n",
       "\n",
       "   IR_29301_SEVERIDAD  ...                                        Descripción  \\\n",
       "1                 3.0  ...             Falla y rechazo de trasplante de riñón   \n",
       "3                 0.0  ...  Diabetes mellitus, no especificada, con compli...   \n",
       "\n",
       "                                           Categoría  \\\n",
       "1  T86 FALLA Y RECHAZO DEL TRASPLANTE DE ÓRGANOS ...   \n",
       "3             E14 DIABETES MELLITUS, NO ESPECIFICADA   \n",
       "\n",
       "                                             Sección  \\\n",
       "1  T80-T88  COMPLICACIONES DE LA ATENCIÓN QUIRÚRG...   \n",
       "3                         E08-E14  DIABETES MELLITUS   \n",
       "\n",
       "                                            Capítulo NEXT_FECHA_INGRESO  \\\n",
       "1  Cap.19  LESIONES TRAUMÁTICAS, ENVENENAMIENTOS ...         2023-06-22   \n",
       "3  Cap.04  ENFERMEDADES ENDOCRINAS, NUTRICIONALES...         2023-08-19   \n",
       "\n",
       "  DIAS_REINGRESO READM_7D READM_30D READM_60D READM_90D  \n",
       "1           70.0        0         0         0         1  \n",
       "3           33.0        0         0         1         1  \n",
       "\n",
       "[2 rows x 26 columns]"
      ]
     },
     "execution_count": 37,
     "metadata": {},
     "output_type": "execute_result"
    }
   ],
   "source": [
    "df_util.head(2)"
   ]
  },
  {
   "cell_type": "code",
   "execution_count": 36,
   "id": "f99056db",
   "metadata": {},
   "outputs": [
    {
     "data": {
      "text/plain": [
       "<Axes: >"
      ]
     },
     "execution_count": 36,
     "metadata": {},
     "output_type": "execute_result"
    },
    {
     "data": {
      "image/png": "[encoded data removed]",
      "text/plain": [
       "<Figure size 640x480 with 1 Axes>"
      ]
     },
     "metadata": {},
     "output_type": "display_data"
    }
   ],
   "source": [
    "df_util['DIAS_REINGRESO'].describe()\n",
    "df_util['DIAS_REINGRESO'].hist(bins=30, edgecolor='black')"
   ]
  },
  {
   "cell_type": "code",
   "execution_count": null,
   "id": "53b8c227",
   "metadata": {},
   "outputs": [],
   "source": [
    "# --- guardar ---\n",
    "df_sorted.to_parquet(\n",
    "    '/home/brunoc/Documents/Universidad/2025/Taller de obtención y preparación de datos/Proyecto/Datos/Datos/new_grd.parquet',\n",
    "    index=False\n",
    ")\n"
   ]
  },
  {
   "cell_type": "code",
   "execution_count": null,
   "id": "a6d14491",
   "metadata": {},
   "outputs": [
    {
     "data": {
      "text/html": [
       "<div>\n",
       "<style scoped>\n",
       "    .dataframe tbody tr th:only-of-type {\n",
       "        vertical-align: middle;\n",
       "    }\n",
       "\n",
       "    .dataframe tbody tr th {\n",
       "        vertical-align: top;\n",
       "    }\n",
       "\n",
       "    .dataframe thead th {\n",
       "        text-align: right;\n",
       "    }\n",
       "</style>\n",
       "<table border=\"1\" class=\"dataframe\">\n",
       "  <thead>\n",
       "    <tr style=\"text-align: right;\">\n",
       "      <th></th>\n",
       "      <th>CIP_ENCRIPTADO</th>\n",
       "      <th>SEXO</th>\n",
       "      <th>FECHA_NACIMIENTO</th>\n",
       "      <th>SERVICIO_SALUD</th>\n",
       "      <th>TIPO_INGRESO</th>\n",
       "      <th>FECHA_INGRESO</th>\n",
       "      <th>FECHAALTA</th>\n",
       "      <th>TIPOALTA</th>\n",
       "      <th>IR_29301_PESO</th>\n",
       "      <th>IR_29301_SEVERIDAD</th>\n",
       "      <th>IR_29301_MORTALIDAD</th>\n",
       "      <th>EDAD</th>\n",
       "      <th>DIAS_ESTANCIA</th>\n",
       "      <th>HOSPITAL</th>\n",
       "      <th>DESCCRIPCION_GRD</th>\n",
       "      <th>Versión</th>\n",
       "      <th>Descripción</th>\n",
       "      <th>Categoría</th>\n",
       "      <th>Sección</th>\n",
       "      <th>Capítulo</th>\n",
       "    </tr>\n",
       "  </thead>\n",
       "  <tbody>\n",
       "    <tr>\n",
       "      <th>903257</th>\n",
       "      <td>66988070.0</td>\n",
       "      <td>HOMBRE</td>\n",
       "      <td>1977-07-12</td>\n",
       "      <td>METROPOLITANO SURORIENTE</td>\n",
       "      <td>URGENCIA</td>\n",
       "      <td>2023-03-29</td>\n",
       "      <td>2023-04-13</td>\n",
       "      <td>DOMICILIO</td>\n",
       "      <td>1.1263</td>\n",
       "      <td>3.0</td>\n",
       "      <td>2.0</td>\n",
       "      <td>46.0</td>\n",
       "      <td>15</td>\n",
       "      <td>Complejo Hospitalario Dr. Sótero del Río (San...</td>\n",
       "      <td>MH DISFUNCIÓN, REACCIÓN O COMPL. POR DISP., I...</td>\n",
       "      <td>CIE-v2013</td>\n",
       "      <td>Falla y rechazo de trasplante de riñón</td>\n",
       "      <td>T86 FALLA Y RECHAZO DEL TRASPLANTE DE ÓRGANOS ...</td>\n",
       "      <td>T80-T88  COMPLICACIONES DE LA ATENCIÓN QUIRÚRG...</td>\n",
       "      <td>Cap.19  LESIONES TRAUMÁTICAS, ENVENENAMIENTOS ...</td>\n",
       "    </tr>\n",
       "    <tr>\n",
       "      <th>965385</th>\n",
       "      <td>66988070.0</td>\n",
       "      <td>HOMBRE</td>\n",
       "      <td>1977-07-12</td>\n",
       "      <td>METROPOLITANO SURORIENTE</td>\n",
       "      <td>URGENCIA</td>\n",
       "      <td>2023-06-22</td>\n",
       "      <td>2023-06-30</td>\n",
       "      <td>FALLECIDO</td>\n",
       "      <td>2.1123</td>\n",
       "      <td>3.0</td>\n",
       "      <td>3.0</td>\n",
       "      <td>46.0</td>\n",
       "      <td>8</td>\n",
       "      <td>Complejo Hospitalario Dr. Sótero del Río (San...</td>\n",
       "      <td>PH PROCEDIMIENTOS NO COMPLEJOS SOBRE APARATO ...</td>\n",
       "      <td>CIE-v2013</td>\n",
       "      <td>Neumonitis debida a aspiración de alimento o v...</td>\n",
       "      <td>J69 NEUMONITIS DEBIDA A SÓLIDOS Y LÍQUIDOS</td>\n",
       "      <td>J60-J70  ENFERMEDADES PULMONARES POR AGENTES E...</td>\n",
       "      <td>Cap.10  ENFERMEDADES DEL APARATO RESPIRATORIO ...</td>\n",
       "    </tr>\n",
       "  </tbody>\n",
       "</table>\n",
       "</div>"
      ],
      "text/plain": [
       "        CIP_ENCRIPTADO    SEXO FECHA_NACIMIENTO            SERVICIO_SALUD  \\\n",
       "903257      66988070.0  HOMBRE       1977-07-12  METROPOLITANO SURORIENTE   \n",
       "965385      66988070.0  HOMBRE       1977-07-12  METROPOLITANO SURORIENTE   \n",
       "\n",
       "       TIPO_INGRESO FECHA_INGRESO  FECHAALTA   TIPOALTA  IR_29301_PESO  \\\n",
       "903257     URGENCIA    2023-03-29 2023-04-13  DOMICILIO         1.1263   \n",
       "965385     URGENCIA    2023-06-22 2023-06-30  FALLECIDO         2.1123   \n",
       "\n",
       "        IR_29301_SEVERIDAD  IR_29301_MORTALIDAD  EDAD  DIAS_ESTANCIA  \\\n",
       "903257                 3.0                  2.0  46.0             15   \n",
       "965385                 3.0                  3.0  46.0              8   \n",
       "\n",
       "                                                 HOSPITAL  \\\n",
       "903257   Complejo Hospitalario Dr. Sótero del Río (San...   \n",
       "965385   Complejo Hospitalario Dr. Sótero del Río (San...   \n",
       "\n",
       "                                         DESCCRIPCION_GRD    Versión  \\\n",
       "903257   MH DISFUNCIÓN, REACCIÓN O COMPL. POR DISP., I...  CIE-v2013   \n",
       "965385   PH PROCEDIMIENTOS NO COMPLEJOS SOBRE APARATO ...  CIE-v2013   \n",
       "\n",
       "                                              Descripción  \\\n",
       "903257             Falla y rechazo de trasplante de riñón   \n",
       "965385  Neumonitis debida a aspiración de alimento o v...   \n",
       "\n",
       "                                                Categoría  \\\n",
       "903257  T86 FALLA Y RECHAZO DEL TRASPLANTE DE ÓRGANOS ...   \n",
       "965385         J69 NEUMONITIS DEBIDA A SÓLIDOS Y LÍQUIDOS   \n",
       "\n",
       "                                                  Sección  \\\n",
       "903257  T80-T88  COMPLICACIONES DE LA ATENCIÓN QUIRÚRG...   \n",
       "965385  J60-J70  ENFERMEDADES PULMONARES POR AGENTES E...   \n",
       "\n",
       "                                                 Capítulo  \n",
       "903257  Cap.19  LESIONES TRAUMÁTICAS, ENVENENAMIENTOS ...  \n",
       "965385  Cap.10  ENFERMEDADES DEL APARATO RESPIRATORIO ...  "
      ]
     },
     "execution_count": 76,
     "metadata": {},
     "output_type": "execute_result"
    }
   ],
   "source": [
    "df_grd.loc[df_grd['CIP_ENCRIPTADO'] == 66988070.0]"
   ]
  }
 ],
 "metadata": {
  "kernelspec": {
   "display_name": ".topd",
   "language": "python",
   "name": "python3"
  },
  "language_info": {
   "codemirror_mode": {
    "name": "ipython",
    "version": 3
   },
   "file_extension": ".py",
   "mimetype": "text/x-python",
   "name": "python",
   "nbconvert_exporter": "python",
   "pygments_lexer": "ipython3",
   "version": "3.13.2"
  }
 },
 "nbformat": 4,
 "nbformat_minor": 5
}
